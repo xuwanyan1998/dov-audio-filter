{
 "cells": [
  {
   "cell_type": "markdown",
   "metadata": {},
   "source": [
    "# Curate Dataset Where Test Set Voices are Combined\n",
    "\n",
    "Audio segments contain a single speech segment from two speakers in the same room setup where one voice is facing and another voice is not facing. \n",
    "\n",
    "Default Settings: curated audio segments are a combination of one facing voice and one non-facing voice from Speaker 2 and Speaker 9 in the held out session: \"upstairs\""
   ]
  },
  {
   "cell_type": "code",
   "execution_count": 1,
   "metadata": {},
   "outputs": [],
   "source": [
    "import os\n",
    "import numpy as np\n",
    "import pandas as pd\n",
    "import librosa\n",
    "import librosa.display\n",
    "import soundfile as sf\n",
    "\n",
    "from IPython import display\n",
    "from matplotlib import pyplot"
   ]
  },
  {
   "cell_type": "code",
   "execution_count": 2,
   "metadata": {},
   "outputs": [],
   "source": [
    "# A simple wrapper class for (1-channel) audio data\n",
    "# data is a 1-D NumPy array containing the data\n",
    "# rate is a number expressing the samples per second\n",
    "class Audio:\n",
    "    def __init__(self, data, rate):\n",
    "        self.data = data\n",
    "        self.rate = rate\n",
    "    def play(self):\n",
    "        return display.Audio(self.data, rate=self.rate)\n",
    "    def plot_wave(self):\n",
    "        librosa.display.waveplot(self.data, sr=self.rate)\n",
    "    def plot_spectrum(self):\n",
    "        n_fft = int(self.rate / 20)\n",
    "        D = librosa.amplitude_to_db(np.abs(librosa.stft(self.data, n_fft)), ref=np.max)\n",
    "        librosa.display.specshow(D, y_axis='linear', sr=self.rate, hop_length=n_fft/4)\n",
    "    @classmethod\n",
    "    def fromfile(cls, fn):\n",
    "        return cls(*librosa.load(fn, sr=None))"
   ]
  },
  {
   "cell_type": "code",
   "execution_count": 3,
   "metadata": {},
   "outputs": [],
   "source": [
    "def get_facing_not_facing_paths(subject, room, wall, dov_range):\n",
    "    '''\n",
    "    subject - the speaker number\n",
    "    room - upstairs or downstairs\n",
    "    wall - wall or nowall microphone setup\n",
    "    dov_range - angles that qualify as facing\n",
    "    \n",
    "    Return the paths to audio recordings from a single subject in a single room for a \n",
    "    single microphone wall setup within a range of facing angles (facing_paths) and \n",
    "    the paths that correspond to not_facing audio recordings.\n",
    "    '''\n",
    "    # get all recording paths for that subject and room and microphone wall setup\n",
    "    data_dir = os.path.join(os.path.abspath('.'), 'data/raw/')\n",
    "    subject_names = ['s' + str(subject)]\n",
    "    trial_names = [f'{s}_trial{t}'\n",
    "               for s in [f'{room}_{wall}', f'{room}_{wall}']\n",
    "               for t in range(1, 2+1)]    \n",
    "    polar_pos_names = [pos[0] + angle[0] + '_' + pos[1] + '_' + angle[1]\n",
    "                       for pos in [('A', '1'), ('B', '3'), ('C', '5')]\n",
    "                       for angle in [(str(i), str(45*i)) for i in range(3)]]\n",
    "    trial_paths = [os.path.join(s, s + '_' + t)\n",
    "                   for s in subject_names\n",
    "                   for t in trial_names]\n",
    "    recording_paths = [os.path.join(data_dir, t, p) \n",
    "                       for t in trial_paths\n",
    "                       for p in polar_pos_names]\n",
    "    rel_recording_paths = [(s, t, p) for s in subject_names\n",
    "                                     for t in trial_names\n",
    "                                     for p in polar_pos_names]\n",
    "    \n",
    "    # get facing paths and not facing paths\n",
    "    facing_paths = []\n",
    "    not_facing_paths = []\n",
    "    for pth_ind in range(len(recording_paths)):\n",
    "        for angle in map(lambda i:45*i, range(360//45)):\n",
    "            if angle in dov_range:\n",
    "                for r in range(2):\n",
    "                    facing_paths.append([os.path.join(recording_paths[pth_ind], f'recording{r}_{angle}_{i}.wav') for i in range(1,4+1)])\n",
    "            else:\n",
    "                for r in range(2):\n",
    "                    not_facing_paths.append([os.path.join(recording_paths[pth_ind], f'recording{r}_{angle}_{i}.wav') for i in range(1,4+1)])                \n",
    "    return(facing_paths, not_facing_paths)"
   ]
  },
  {
   "cell_type": "code",
   "execution_count": 4,
   "metadata": {},
   "outputs": [],
   "source": [
    "def name_combined_audio_file(file1, file2):\n",
    "    '''\n",
    "    file1 - the first audio file in the combined audio\n",
    "    file2 - the second audio file in the combined audio\n",
    "    \n",
    "    Helper function for combine_facing_and_not_facing_audio to aid in the naming of\n",
    "    the combined audio recordings. \n",
    "    '''\n",
    "    file1 = file1.split('/')\n",
    "    file2 = file2.split('/')\n",
    "    combined_audio_name = file1[-3] + '_' + file1[-2] + '_' + file1[-1].strip('.wav') + '-' + file2[-3] + '_' + file2[-2] + '_' + file2[-1]\n",
    "    return(combined_audio_name)"
   ]
  },
  {
   "cell_type": "code",
   "execution_count": 5,
   "metadata": {},
   "outputs": [],
   "source": [
    "def combine_facing_and_not_facing_audio(facing_paths, not_facing_paths, prefix, cutoff):\n",
    "    '''\n",
    "    facing_paths - paths to audio recordings where the dov is facing.\n",
    "    not_facing_paths - paths to recordings where the dov is not facing.\n",
    "    prefix - where to write the audio files to\n",
    "    cutoff - number of speech combinations to curate\n",
    "    \n",
    "    This function terminates when cutoff audio combinations are written to disk. \n",
    "    A cutoff value of 100 will produce 100 x 4 channels x 2 order structure\n",
    "    recordings. \n",
    "    '''\n",
    "    for facing_bundle in facing_paths:\n",
    "        facing_audio_files = [Audio.fromfile(a) for a in facing_bundle]\n",
    "        for not_facing_bundle in not_facing_paths:\n",
    "            not_facing_audio_files = [Audio.fromfile(a) for a in not_facing_bundle]\n",
    "            for channel in range(4):\n",
    "                combined_data = np.append(facing_audio_files[channel].data, not_facing_audio_files[channel].data)\n",
    "                combined_rate = facing_audio_files[channel].rate\n",
    "                combined_audio = Audio(combined_data, combined_rate)\n",
    "                combined_audio_name = name_combined_audio_file(facing_bundle[channel], not_facing_bundle[channel])\n",
    "                sf.write(prefix + combined_audio_name, combined_data, combined_rate, subtype='PCM_24')\n",
    "                combined_data = np.append(not_facing_audio_files[channel].data, facing_audio_files[channel].data)\n",
    "                combined_audio = Audio(combined_data, combined_rate)\n",
    "                combined_audio_name = name_combined_audio_file(not_facing_bundle[channel], facing_bundle[channel])\n",
    "                sf.write(prefix + combined_audio_name, combined_data, combined_rate, subtype='PCM_24')\n",
    "            cutoff -= 1\n",
    "            if cutoff == 0:\n",
    "                return"
   ]
  },
  {
   "cell_type": "code",
   "execution_count": 186,
   "metadata": {},
   "outputs": [],
   "source": [
    "test_room = 'upstairs'\n",
    "facing_dov = [0, 45, 315]\n",
    "\n",
    "sub2_facing_wall, sub2_not_facing_wall = get_facing_not_facing_paths(2, test_room, 'wall', facing_dov)\n",
    "sub2_facing_nowall, sub2_not_facing_nowall = get_facing_not_facing_paths(2, test_room, 'nowall', facing_dov)\n",
    "\n",
    "sub9_facing_wall, sub9_not_facing_wall = get_facing_not_facing_paths(9, test_room, 'wall', facing_dov)\n",
    "sub9_facing_nowall, sub9_not_facing_nowall = get_facing_not_facing_paths(9, test_room, 'nowall', facing_dov)\n",
    "\n",
    "combine_facing_and_not_facing_audio(sub2_facing_wall, sub9_not_facing_wall, 'data/combined/upstairs/wall/45-to-negative-45/', 100)\n",
    "combine_facing_and_not_facing_audio(sub2_facing_nowall, sub9_not_facing_nowall, 'data/combined/upstairs/nowall/45-to-negative-45/', 100)\n",
    "\n",
    "combine_facing_and_not_facing_audio(sub9_facing_wall, sub2_not_facing_wall, 'data/combined/upstairs/wall/45-to-negative-45/', 100)\n",
    "combine_facing_and_not_facing_audio(sub9_facing_nowall, sub2_not_facing_nowall, 'data/combined/upstairs/nowall/45-to-negative-45/', 100)"
   ]
  },
  {
   "cell_type": "code",
   "execution_count": 187,
   "metadata": {},
   "outputs": [],
   "source": [
    "test_room = 'upstairs'\n",
    "facing_dov = [0, 45, 90, 270, 315]\n",
    "\n",
    "sub2_facing_wall, sub2_not_facing_wall = get_facing_not_facing_paths(2, test_room, 'wall', facing_dov)\n",
    "sub2_facing_nowall, sub2_not_facing_nowall = get_facing_not_facing_paths(2, test_room, 'nowall', facing_dov)\n",
    "\n",
    "sub9_facing_wall, sub9_not_facing_wall = get_facing_not_facing_paths(9, test_room, 'wall', facing_dov)\n",
    "sub9_facing_nowall, sub9_not_facing_nowall = get_facing_not_facing_paths(9, test_room, 'nowall', facing_dov)\n",
    "\n",
    "combine_facing_and_not_facing_audio(sub2_facing_wall, sub9_not_facing_wall, 'data/combined/upstairs/wall/90-to-negative-90/', 100)\n",
    "combine_facing_and_not_facing_audio(sub2_facing_nowall, sub9_not_facing_nowall, 'data/combined/upstairs/nowall/90-to-negative-90/', 100)\n",
    "\n",
    "combine_facing_and_not_facing_audio(sub9_facing_wall, sub2_not_facing_wall, 'data/combined/upstairs/wall/90-to-negative-90/', 100)\n",
    "combine_facing_and_not_facing_audio(sub9_facing_nowall, sub2_not_facing_nowall, 'data/combined/upstairs/nowall/90-to-negative-90/', 100)"
   ]
  }
 ],
 "metadata": {
  "kernelspec": {
   "display_name": "Python 3",
   "language": "python",
   "name": "python3"
  },
  "language_info": {
   "codemirror_mode": {
    "name": "ipython",
    "version": 3
   },
   "file_extension": ".py",
   "mimetype": "text/x-python",
   "name": "python",
   "nbconvert_exporter": "python",
   "pygments_lexer": "ipython3",
   "version": "3.7.10"
  }
 },
 "nbformat": 4,
 "nbformat_minor": 4
}
